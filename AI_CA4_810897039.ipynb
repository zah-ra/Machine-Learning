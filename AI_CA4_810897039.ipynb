{
 "cells": [
  {
   "cell_type": "markdown",
   "id": "welcome-validity",
   "metadata": {},
   "source": [
    "<div dir=\"rtl\">\n",
    "    <font size=\"4\"><b>پروژه چهارم - Machine Learning</b><br><br></font>\n",
    "    هدف پروژه: هدف این پروژه آشنایی با روشهای یادگیری ماشین به کمک کتابخانه scikit learn و تخمین قیمت خودروها در آگهی سایت دیوار به کمک آنهاست.<br>\n",
    "    مجموعه داده: در این پروژه مجموعه داده تعدادی آگهی درج شده برای فروش خودرو در سایت دیوار در فرمت csv میباشد که در آن عنوان آگهی، توضیحات مربوط به خودرو، نوع خودرو (سبک یا سنگین)، زمان درج آگهی، تعداد تصاویر بارگذاری شده در آگهی، کارکرد خودرو و سال تولید آن مشخص شده است. همچنین یک ستون قیمت که همان ستون هدف میباشد نیز داریم.\n",
    "</div>"
   ]
  },
  {
   "cell_type": "code",
   "execution_count": 1,
   "id": "external-departure",
   "metadata": {},
   "outputs": [
    {
     "name": "stdout",
     "output_type": "stream",
     "text": [
      "Requirement already satisfied: hazm in c:\\users\\artin\\anaconda3\\envs\\ai\\lib\\site-packages (0.7.0)\n",
      "Requirement already satisfied: nltk==3.3 in c:\\users\\artin\\anaconda3\\envs\\ai\\lib\\site-packages (from hazm) (3.3)\n",
      "Note: you may need to restart the kernel to use updated packages.Requirement already satisfied: six in c:\\users\\artin\\anaconda3\\envs\\ai\\lib\\site-packages (from nltk==3.3->hazm) (1.15.0)\n",
      "\n"
     ]
    }
   ],
   "source": [
    "pip install hazm"
   ]
  },
  {
   "cell_type": "markdown",
   "id": "assigned-corrections",
   "metadata": {},
   "source": [
    "<div dir = \"rtl\">\n",
    "    <font size=\"4\"><b>فاز اول: پیش پردازش داده ها و مشاهده داده</b><br></font>\n",
    "    در این قسمت داده های ورودی را به مجموعه ای از ویژگی های قابل پردازش و داده های قابل استفاده برای مدلمان تبدیل میکنیم.<br> \n",
    "    ابتدا سطرهایی که خالی هستند و یا مقدار price برای آنها 1- است را حذف میکنیم.\n",
    "</div>"
   ]
  },
  {
   "cell_type": "code",
   "execution_count": 2,
   "id": "associate-intro",
   "metadata": {},
   "outputs": [],
   "source": [
    "def remove_nan(df):\n",
    "    df = df[df['brand'].notna()]\n",
    "    df = df[df['price'] != -1]\n",
    "    return df"
   ]
  },
  {
   "cell_type": "markdown",
   "id": "recovered-cameroon",
   "metadata": {},
   "source": [
    "<div dir=\"rtl\">\n",
    "    سپس مقادیر ستونهای brand و category را به روش Label_Encoding جایگزین میکنیم که در پرسش 2 روشهای متفاوت و علت انتخاب این روش ذکر شده است.<br>\n",
    "</div>"
   ]
  },
  {
   "cell_type": "code",
   "execution_count": 3,
   "id": "certain-briefs",
   "metadata": {},
   "outputs": [],
   "source": [
    "from sklearn import preprocessing\n",
    "def encode(df):\n",
    "    le = preprocessing.LabelEncoder()\n",
    "    df['brand'] = le.fit_transform(df.brand.values)\n",
    "    df = df.replace({\"category\": {\"light\": 0, \"heavy\": 1}})\n",
    "    return df"
   ]
  },
  {
   "cell_type": "markdown",
   "id": "through-whale",
   "metadata": {},
   "source": [
    "<div dir=\"rtl\">\n",
    "    حال باید ستونهایی که در آنها مقادیر متنی ذخیره شده است را نرمالسازی کنیم. برای اینکار روشهای normalize، tokenize، حذف stop wordها و stemming بکار برده شده اند.\n",
    "</div>"
   ]
  },
  {
   "cell_type": "code",
   "execution_count": 4,
   "id": "exempt-persian",
   "metadata": {},
   "outputs": [],
   "source": [
    "from hazm import *\n",
    "def normalize(df):\n",
    "    normalizer = Normalizer()\n",
    "    df['description'] = df['description'].apply(lambda x: normalizer.normalize(x))\n",
    "    df['title'] = df['title'].apply(lambda x: normalizer.normalize(x))"
   ]
  },
  {
   "cell_type": "code",
   "execution_count": 5,
   "id": "reasonable-incentive",
   "metadata": {},
   "outputs": [],
   "source": [
    "def tokenize(df):\n",
    "    df['description'] = df['description'].apply(lambda x: word_tokenize(x))\n",
    "    df['title'] = df['title'].apply(lambda x: word_tokenize(x))"
   ]
  },
  {
   "cell_type": "code",
   "execution_count": 6,
   "id": "isolated-christian",
   "metadata": {},
   "outputs": [],
   "source": [
    "def remove_stop_words(df):\n",
    "    stopwords = stopwords_list() + ['(', ')','!','#','؛','»','«','؟','\\\"','-','/',':','[',']','.', '،', '*', '_']\n",
    "    stopwords = set(stopwords)\n",
    "    df['description'] = df['description'].apply(lambda x: [i for i in x if i not in stopwords])\n",
    "    df['title'] = df['title'].apply(lambda x: [i for i in x if i not in stopwords])"
   ]
  },
  {
   "cell_type": "code",
   "execution_count": 7,
   "id": "informative-deployment",
   "metadata": {},
   "outputs": [],
   "source": [
    "def stemming(df):\n",
    "    stemmer = Stemmer()\n",
    "    df['description'] = df['description'].apply(lambda x: [stemmer.stem(i) for i in x])\n",
    "    df['title'] = df['title'].apply(lambda x: [stemmer.stem(i) for i in x])"
   ]
  },
  {
   "cell_type": "markdown",
   "id": "functioning-delhi",
   "metadata": {},
   "source": [
    "<div dir=\"rtl\">\n",
    "    مقادیر ستونهای year و created_at نیز باید به مقادیر عددی تبدیل شوند تا بتوان پردازش را روی آنها انجام داد.<br>\n",
    "    برای تبدیل ستون created_at به عدد به این صورت عمل میکنیم که باتوجه به روز هفته و ساعت، مقدار ساعت را برحسب 24 ساعت ذخیره میکنیم.\n",
    "    \n",
    "</div>"
   ]
  },
  {
   "cell_type": "code",
   "execution_count": 8,
   "id": "incomplete-heater",
   "metadata": {},
   "outputs": [],
   "source": [
    "def convert_to_int(df):\n",
    "    df['year'] = df['year'].apply(str)\n",
    "    df['year'] = df['year'].str.replace('<', '')\n",
    "    df['year'] = df['year'].astype(int)"
   ]
  },
  {
   "cell_type": "code",
   "execution_count": 9,
   "id": "neural-major",
   "metadata": {},
   "outputs": [],
   "source": [
    "from datetime import *\n",
    "\n",
    "def convert_to_datetime(df):\n",
    "    date_time = []\n",
    "    time = []\n",
    "    cnt = 0\n",
    "    days = {\"Saturday\" : 0, \"Sunday\" : 1, \"Monday\" : 2, \"Tuesday\" : 3, \"Wednesday\" : 4, \"Thursday\" : 5, \"Friday\" : 6}\n",
    "    for row in df['created_at']:\n",
    "        day = row.split()[0]\n",
    "        date_time.append(datetime.strptime(str(row), \"%A %I%p\"))\n",
    "        time.append(days[day] * 24 + date_time[cnt].hour)\n",
    "        cnt += 1\n",
    "    df['created_at'] = time"
   ]
  },
  {
   "cell_type": "markdown",
   "id": "rolled-cincinnati",
   "metadata": {},
   "source": [
    "<div dir=\"rtl\">\n",
    "    <b>پرسش 1)</b>\n",
    "    این نمودار میزان تاثیر فیچرهای مختلف بر روی ویژگی هدف و در واقع وابستگی آنها با ویژگی هدف را نشان میدهد. به کمک ین نمودار میتوان از فیچرهایی که بیشترین تاثیر را دارند برای مدلسازی های خود استفاده کنیم.<br>\n",
    "    نمودار خواسته در قسمتهای آخر رسم شده است.\n",
    "</div>"
   ]
  },
  {
   "cell_type": "markdown",
   "id": "exact-cheat",
   "metadata": {},
   "source": [
    "<div dir=\"rtl\">\n",
    "    <b>پرسش 2)</b>\n",
    "    دو روش برای اینکار وجود دارد: 1) Label-Encoding (2 OneHot_Encoding <br>\n",
    "    روشی که در این پروژه برای ستونهای brand و category انتخاب شده است روش Label_Encoding است. هر دو روش روی داده ها امتحان شد و تفاوت چشمگیری در نتیجه نهایی مشاهده نشد. فلذا برای راحتی کار به این دلیل که تعداد ستونها (فیچرها) در Label_Encoding کمتر است، این روش انتخاب شد.(توجه داریم که ستون category فقط یک مقدار دارد و تفاوتی نمیکند از کدام روش برای این ستون استفاده شود.) \n",
    "</div>"
   ]
  },
  {
   "cell_type": "markdown",
   "id": "internal-spain",
   "metadata": {},
   "source": [
    "<div dir=\"rtl\">\n",
    "    <b>پرسش 3)</b>\n",
    "    ستونهایی که داده های متنی در آنها ذخیره شده نیز باید قابل پردازش شوند. در داده های موجو دو ستون description و title اینگونه هستند که از روش tfidf آنها را به داده های قابل پردازش تبدیل میکنیم. این روش به این صورت عمل میکند که تعداد تکرار هر واژه را در هر سطر محاسبه میکند و در نهایت میتوانیم n تعداد از آنهایی که بیشترین تکرار را داشتند بدست آوریم.<br>\n",
    "    اینکار دقت مدل را بالا میبرد چرا که این دو ستون نیز در مقدار ستون هدف موثر هستن.\n",
    "</div>"
   ]
  },
  {
   "cell_type": "code",
   "execution_count": 10,
   "id": "simple-beach",
   "metadata": {},
   "outputs": [],
   "source": [
    "def convert_to_sentence(df):\n",
    "    df['description'] = df['description'].apply(lambda x: \" \".join(x))\n",
    "    df['title'] = df['title'].apply(lambda x: \" \".join(x))"
   ]
  },
  {
   "cell_type": "code",
   "execution_count": 27,
   "id": "featured-syndicate",
   "metadata": {},
   "outputs": [],
   "source": [
    "from sklearn.feature_extraction.text import (CountVectorizer, TfidfVectorizer, TfidfTransformer)\n",
    "def calculate_tfidf(df):\n",
    "    df['text'] = df['description'].str.cat(df['title'],sep=\" \")\n",
    "    vectorizer = TfidfVectorizer(analyzer='word', ngram_range=(1, 1), max_features=50)  \n",
    "    vectorized = vectorizer.fit_transform(list(df['text']))\n",
    "    tfidf = pd.DataFrame(vectorized.toarray(), index=[int(i) for i in range(1, 1+len(df['text']))], columns=vectorizer.get_feature_names())\n",
    "    df[vectorizer.get_feature_names()] = tfidf[vectorizer.get_feature_names()].values\n",
    "    return df\n",
    "\n",
    "def calculate_count_vect(df):\n",
    "    df['text'] = df['description'].str.cat(df['title'],sep=\" \")\n",
    "    vectorizer = CountVectorizer(analyzer='word', ngram_range=(1, 1), max_features=100)  \n",
    "    vectorized = vectorizer.fit_transform(list(df['text']))\n",
    "    count_vect = pd.DataFrame(vectorized.toarray(), index=[int(i) for i in range(1, 1+len(df['text']))], columns=vectorizer.get_feature_names())\n",
    "    df[vectorizer.get_feature_names()] = count_vect[vectorizer.get_feature_names()].values\n",
    "    return df\n",
    "\n",
    "def remove_string_columns(df):\n",
    "    df = df.drop(['description', 'title', 'text'], axis=1)\n",
    "    return df"
   ]
  },
  {
   "cell_type": "markdown",
   "id": "certain-burlington",
   "metadata": {},
   "source": [
    "<div dir=\"rtl\">\n",
    "    <b>پرسش 4)</b>\n",
    "    روشهای گوناگونی وجود دارد، 1) یک روش این است که آنها را حذف کنیم. بدلیل اینکه حجم داده ها در این پروژه زیاد بود  و حذف آنها تاثیر زیادی بر داده ها نمگذاشت ما از این روش استفاده کردیم.<br>\n",
    "    2) روشهای دیگری وجود دارد مثل جایگزین کردن مقادیر از دست رفته با میانگین یا میانه ستون و غیره\n",
    "</div>"
   ]
  },
  {
   "cell_type": "markdown",
   "id": "exciting-rates",
   "metadata": {},
   "source": [
    "<div dir=\"rtl\">\n",
    "    <b>محاسبه Information Gain</b><br>\n",
    "    در این قسمت نیز information gain برای ستونها محاسبه و نمودار آن نیز رسم شده است. \n",
    "</div>"
   ]
  },
  {
   "cell_type": "code",
   "execution_count": 12,
   "id": "fourth-nickel",
   "metadata": {},
   "outputs": [],
   "source": [
    "import matplotlib.pyplot as plt\n",
    "from sklearn.feature_selection import mutual_info_regression\n",
    "\n",
    "def calculate_mutual_info_reg(df):\n",
    "    x = df[['brand', 'category', 'created_at', 'image_count', 'mileage', 'year']]\n",
    "    y = df['price']\n",
    "    mi = mutual_info_regression(x, y)\n",
    "    mi = pd.Series(mi)\n",
    "    mi.index = x.columns\n",
    "    mi.sort_values(ascending=False, inplace = True)\n",
    "    return mi\n",
    "\n",
    "def mutual_info_diagram(mi):\n",
    "    plt.title('Mutual information')\n",
    "    mi.plot.bar()\n",
    "    plt.show()"
   ]
  },
  {
   "cell_type": "code",
   "execution_count": 13,
   "id": "italic-cursor",
   "metadata": {},
   "outputs": [],
   "source": [
    "from sklearn.preprocessing import MinMaxScaler\n",
    "def scale(df):\n",
    "    scaler = MinMaxScaler()\n",
    "    price = df['price']\n",
    "    df_scale = scaler.fit_transform(df.drop(['price']))\n",
    "    df = pd.DataFrame(df_scale, columns=df.columns)\n",
    "    df['price'] = price\n",
    "    return df"
   ]
  },
  {
   "cell_type": "markdown",
   "id": "deadly-pointer",
   "metadata": {},
   "source": [
    "<div dir = \"rtl\">\n",
    "    <font size=\"4\"><b>فاز دوم: پیشبینی قیمت</b><br></font>\n",
    "     در این قسمت داده ها را به دو قسمت یادگیری و آزمون تقسیم میکنیم. 20 درصد داده را برای آزمون و 80 درصد آنرا برای یادگیری قرار میدهیم (در کل مقداری بین 10 تا 30 درصد برای آزمون بهترین تخمین را میدهد). سپس سه مدل بر پایه KNN و decision tree و linear regression پیاده سازی میکنیم. دقت مدلسازی را نیر بر اساس معیارهای RMSE و MSE اندازه گیری میکنیم.<br>\n",
    "</div>"
   ]
  },
  {
   "cell_type": "code",
   "execution_count": 14,
   "id": "recovered-adelaide",
   "metadata": {},
   "outputs": [],
   "source": [
    "from sklearn.model_selection import train_test_split\n",
    "from sklearn.neighbors import KNeighborsRegressor\n",
    "from sklearn.tree import DecisionTreeRegressor\n",
    "from sklearn.linear_model import LinearRegression\n",
    "from sklearn.ensemble import RandomForestRegressor\n",
    "from sklearn.metrics import mean_squared_error as RMSE\n",
    "\n",
    "def split_data(df):\n",
    "    x = df.drop(['price'], axis=1)\n",
    "    y = df['price']\n",
    "    x_train, x_validation, y_train, y_validation = train_test_split(x, y, test_size=0.40)\n",
    "    return x_train, y_train, x_validation, y_validation\n",
    "\n",
    "def evaluate(y_validation, y_predict):\n",
    "    rmse = RMSE(y_validation, y_predict, squared=False)\n",
    "    mse = RMSE(y_validation, y_predict)\n",
    "    return rmse, mse"
   ]
  },
  {
   "cell_type": "markdown",
   "id": "available-october",
   "metadata": {},
   "source": [
    "<div dir=\"rtl\">\n",
    "    <b>مدل KNN با هایپرپارامتر n_neighbors:</b>\n",
    "</div>"
   ]
  },
  {
   "cell_type": "code",
   "execution_count": 15,
   "id": "jewish-template",
   "metadata": {},
   "outputs": [],
   "source": [
    "def k_nearest_neighbor(x_train, y_train, x_validation, n):\n",
    "    KNN = KNeighborsRegressor(n_neighbors=n)\n",
    "    KNN.fit(x_train, y_train)\n",
    "    y_predict = KNN.predict(x_validation)\n",
    "    return y_predict"
   ]
  },
  {
   "cell_type": "markdown",
   "id": "armed-american",
   "metadata": {},
   "source": [
    "<div dir=\"rtl\">\n",
    "    <b>مدل Decision Tree با هایپرپارامتر max_depth و min_samples_split:</b>\n",
    "</div> "
   ]
  },
  {
   "cell_type": "code",
   "execution_count": 16,
   "id": "promotional-colombia",
   "metadata": {},
   "outputs": [],
   "source": [
    "def decision_tree(x_train, y_train, x_validation, d, m):\n",
    "    DT = DecisionTreeRegressor(max_depth=d, min_samples_split=m)\n",
    "    DT.fit(x_train, y_train)\n",
    "    y_predict = DT.predict(x_validation)\n",
    "    return y_predict"
   ]
  },
  {
   "cell_type": "markdown",
   "id": "instrumental-range",
   "metadata": {},
   "source": [
    "<div dir=\"rtl\">\n",
    "    <b>مدل Linear Regression:</b>"
   ]
  },
  {
   "cell_type": "code",
   "execution_count": 17,
   "id": "loving-foster",
   "metadata": {},
   "outputs": [],
   "source": [
    "def linear_regression(x_train, y_train, x_validation):\n",
    "    LR = LinearRegression()\n",
    "    LR.fit(x_train, y_train)\n",
    "    y_predicted = LR.predict(x_validation)\n",
    "    return y_predicted"
   ]
  },
  {
   "cell_type": "markdown",
   "id": "super-camera",
   "metadata": {},
   "source": [
    "<div dir=\"rtl\">\n",
    "    <b>مدل Random Forest:</b>\n",
    "</div>"
   ]
  },
  {
   "cell_type": "code",
   "execution_count": 18,
   "id": "muslim-integrity",
   "metadata": {},
   "outputs": [],
   "source": [
    "def random_forest(x_train, y_train, x_validation, n):\n",
    "    RF = RandomForestRegressor(n_estimators=n, random_state=0)\n",
    "    RF.fit(x_train, y_train)\n",
    "    y_predicted = RF.predict(x_validation)\n",
    "    return y_predicted"
   ]
  },
  {
   "cell_type": "markdown",
   "id": "adjusted-pharmacology",
   "metadata": {},
   "source": [
    "<div dir=\"rtl\">\n",
    "    <b>پرسش 5)</b>\n",
    "    همانطور که پیشتر گفته شد 20 درصد داده ها را برای آزمون و 80 درصد را برای یادگیری در نظر گرفتیم. در کل مقدار 10 تا 30 درصد برای آزمون مقدار مناسبی است که بهترین تخمین را میدهد.<br>\n",
    "     اگر اندازه داده های یادگیری خیلی کم باشد بدلیل یادگیری بیش از حد داده های train تخمین درستی به ما نمیدهد و مدل general نخواهد بود و overfitting رخ دهد و از طرف دیگر اگر تعداد داده های یادگیری خیلی بزرگ باشد مقداری که برای آزمون باقی میماند خیلی کم میشود و در این صورت underfitting رخ میدهد.\n",
    "</div>"
   ]
  },
  {
   "cell_type": "code",
   "execution_count": 28,
   "id": "coastal-ethiopia",
   "metadata": {},
   "outputs": [],
   "source": [
    "import pandas as pd\n",
    "df = pd.read_csv(\"vehicles.csv\")\n",
    "df = remove_nan(df)\n",
    "df = encode(df)\n",
    "normalize(df)\n",
    "tokenize(df)\n",
    "remove_stop_words(df)\n",
    "stemming(df)\n",
    "convert_to_int(df)\n",
    "convert_to_datetime(df)\n",
    "convert_to_sentence(df)\n",
    "df = calculate_count_vect(df)\n",
    "df = remove_string_columns(df)"
   ]
  },
  {
   "cell_type": "code",
   "execution_count": 29,
   "id": "renewable-wheel",
   "metadata": {},
   "outputs": [
    {
     "data": {
      "image/png": "[encoded data removed]",
      "text/plain": [
       "<Figure size 432x288 with 1 Axes>"
      ]
     },
     "metadata": {
      "needs_background": "light"
     },
     "output_type": "display_data"
    }
   ],
   "source": [
    "mi = calculate_mutual_info_reg(df)\n",
    "mutual_info_diagram(mi)"
   ]
  },
  {
   "cell_type": "code",
   "execution_count": 30,
   "id": "breeding-kennedy",
   "metadata": {},
   "outputs": [
    {
     "name": "stdout",
     "output_type": "stream",
     "text": [
      "K nearest neighbor:\n",
      "RMSE =  24070810.326382108\n",
      "MSE =  579403909768663.5\n"
     ]
    }
   ],
   "source": [
    "x_train, y_train, x_validation, y_validation = split_data(df)\n",
    "KNN_predict = k_nearest_neighbor(x_train, y_train, x_validation, 10)\n",
    "rmse1, mse1 = evaluate(y_validation, KNN_predict)\n",
    "print(\"K nearest neighbor:\")\n",
    "print(\"RMSE = \", rmse1)\n",
    "print(\"MSE = \", mse1)"
   ]
  },
  {
   "cell_type": "code",
   "execution_count": 31,
   "id": "metallic-beatles",
   "metadata": {},
   "outputs": [
    {
     "name": "stdout",
     "output_type": "stream",
     "text": [
      "Decision tree:\n",
      "RMSE =  12630440.767036319\n",
      "MSE =  159528033969613.0\n"
     ]
    }
   ],
   "source": [
    "decision_tree_predict = decision_tree(x_train, y_train, x_validation, 10, 3)\n",
    "rmse2, mse2 = evaluate(y_validation, decision_tree_predict)\n",
    "print(\"Decision tree:\")\n",
    "print(\"RMSE = \", rmse2)\n",
    "print(\"MSE = \", mse2)"
   ]
  },
  {
   "cell_type": "code",
   "execution_count": 32,
   "id": "scheduled-possession",
   "metadata": {},
   "outputs": [
    {
     "name": "stdout",
     "output_type": "stream",
     "text": [
      "Linear regression:\n",
      "RMSE =  19913747.23434895\n",
      "MSE =  396557328913540.44\n"
     ]
    }
   ],
   "source": [
    "linear_reg = linear_regression(x_train, y_train, x_validation)\n",
    "rmse3, mse3 = evaluate(y_validation, linear_reg)\n",
    "print(\"Linear regression:\")\n",
    "print(\"RMSE = \", rmse3)\n",
    "print(\"MSE = \", mse3)"
   ]
  },
  {
   "cell_type": "markdown",
   "id": "major-warning",
   "metadata": {},
   "source": [
    "<div dir=\"rtl\">\n",
    "    <b>پرسش 6)</b>\n",
    "    با رسم نمودار خطا بر حسب عمق درخت مشاهده میشود که مدل در عمق های کم عملکرد اصلا خوبی ندارد و در عمق های خیلی زیاد عملکرد بهتر میشود ولی بازم در عمق کمتر خطا با مقدار کمتری وجود داشته است. پس باید عمق را نه خیلی زیاد و نه خیلی کم انتخاب کنیم و مقدار بهینه آن (در اینجا 10) انتخاب شود.\n",
    "</div>"
   ]
  },
  {
   "cell_type": "code",
   "execution_count": 34,
   "id": "inappropriate-radius",
   "metadata": {},
   "outputs": [],
   "source": [
    "rmse = []\n",
    "mse = []\n",
    "x = []\n",
    "for i in range(1, 60):\n",
    "    dt_predict = decision_tree(x_train, y_train, x_validation, i, 2)\n",
    "    r, m = evaluate(y_validation, dt_predict)\n",
    "    rmse.append(r/1000000)\n",
    "    mse.append(m/1000000)\n",
    "    x.append(i)"
   ]
  },
  {
   "cell_type": "code",
   "execution_count": 35,
   "id": "literary-atlas",
   "metadata": {},
   "outputs": [
    {
     "data": {
      "image/png": "[encoded data removed]",
      "text/plain": [
       "<Figure size 432x288 with 1 Axes>"
      ]
     },
     "metadata": {
      "needs_background": "light"
     },
     "output_type": "display_data"
    }
   ],
   "source": [
    "plt.plot(x, rmse, color=\"red\", label=\"RMSE\")\n",
    "plt.title(\"RMSE\")\n",
    "plt.xlabel(\"Depth in Decision Tree\")\n",
    "plt.legend();\n",
    "plt.show()\n"
   ]
  },
  {
   "cell_type": "code",
   "execution_count": 36,
   "id": "opposite-sleeve",
   "metadata": {},
   "outputs": [
    {
     "data": {
      "image/png": "[encoded data removed]",
      "text/plain": [
       "<Figure size 432x288 with 1 Axes>"
      ]
     },
     "metadata": {
      "needs_background": "light"
     },
     "output_type": "display_data"
    }
   ],
   "source": [
    "plt.plot(x, mse, color=\"blue\", label=\"MSE\")\n",
    "plt.title(\"MSE\")\n",
    "plt.xlabel(\"Depth in Decision Tree\")\n",
    "plt.legend();\n",
    "plt.show()"
   ]
  },
  {
   "cell_type": "markdown",
   "id": "explicit-stationery",
   "metadata": {},
   "source": [
    "<div dir=\"rtl\">\n",
    "    <b>پرسش 7)</b>\n",
    "    بایاس و واریانس نشان میدهند که مدل ما چقدر general است و پیشبینی آن جامعیت دارد. در واقع اگر مقدار بایاس زیاد باشد این یعنی به داده های یادگیری توجه کمی شده است و اگر واریانس زیاد باشد به این معنی است که به داده های یادگیری بیش از حد اهمیت داده است. پس اگر بایاس خیلی بزرگ باشد و واریانس کوچک در این صورت underfitting رخ میدهد و برعکس اگر واریانس خیلی بزرگ باشد و بایاس کم باشد overfitting رخ میدهد مه هیچ یک از دو حالت برا ما مطلوب نیست.<br>\n",
    "    در مدلسازی random forest چون تصمیمگیری از روی چندین درخت تصمیم میباشد پیشبینی میکنیم که خطا یعنی بایاس و واریانس نسبت به درخت تصمیم کمتر باشد.\n",
    "</div>"
   ]
  },
  {
   "cell_type": "code",
   "execution_count": 33,
   "id": "impossible-speech",
   "metadata": {},
   "outputs": [
    {
     "name": "stdout",
     "output_type": "stream",
     "text": [
      "Random forest:\n",
      "RMSE =  11113059.917479154\n",
      "MSE =  123500100729481.77\n"
     ]
    }
   ],
   "source": [
    "random_for = random_forest(x_train, y_train, x_validation, 40)\n",
    "rmse4, mse4 = evaluate(y_validation, random_for)\n",
    "print(\"Random forest:\")\n",
    "print(\"RMSE = \", rmse4)\n",
    "print(\"MSE = \", mse4)"
   ]
  }
 ],
 "metadata": {
  "kernelspec": {
   "display_name": "Python 3",
   "language": "python",
   "name": "python3"
  },
  "language_info": {
   "codemirror_mode": {
    "name": "ipython",
    "version": 3
   },
   "file_extension": ".py",
   "mimetype": "text/x-python",
   "name": "python",
   "nbconvert_exporter": "python",
   "pygments_lexer": "ipython3",
   "version": "3.7.10"
  }
 },
 "nbformat": 4,
 "nbformat_minor": 5
}
